{
 "cells": [
  {
   "cell_type": "code",
   "execution_count": 1,
   "id": "fe92ca07-679c-42c7-8c02-76bb649d8f11",
   "metadata": {},
   "outputs": [],
   "source": [
    "# this notebook will demonstrate use of yield keyword"
   ]
  },
  {
   "cell_type": "code",
   "execution_count": 2,
   "id": "2d8589c7-0026-432a-b2c6-d6c083eff7b5",
   "metadata": {},
   "outputs": [
    {
     "name": "stdout",
     "output_type": "stream",
     "text": [
      "1\n",
      "2\n",
      "3\n"
     ]
    }
   ],
   "source": [
    "# yield statement suspends functions execution and sends a val back to the caller, but retains enough state\n",
    "# to enable function to resume where it left off. This allows code to produce a series of vals over time,\n",
    "# rather than computing them at once and sending them back like (as?) a list.\n",
    "\n",
    "\n",
    "def simpleGeneratorFun():\n",
    "    yield 1\n",
    "    yield 2\n",
    "    yield 3\n",
    "    \n",
    "for value in simpleGeneratorFun():\n",
    "    print(value)"
   ]
  },
  {
   "cell_type": "code",
   "execution_count": null,
   "id": "42438a71-a4b3-4fd5-988e-f6a5005abab0",
   "metadata": {},
   "outputs": [],
   "source": [
    "# see what's happening here? YIELD is used instead of RETURN.\n",
    "# RETURN sends a specified value (e.g, scalar or list) to caller while\n",
    "# YIELD can produce a SEQUENCE of values.\n",
    "\n",
    "# USE YIELD WHEN WE WANT TO ITERATE OVER SEQUENCE BUT DONT WANT TO STORE ENTIRE SEQUENCE IN MEMORY"
   ]
  }
 ],
 "metadata": {
  "kernelspec": {
   "display_name": "Python 3 (ipykernel)",
   "language": "python",
   "name": "python3"
  },
  "language_info": {
   "codemirror_mode": {
    "name": "ipython",
    "version": 3
   },
   "file_extension": ".py",
   "mimetype": "text/x-python",
   "name": "python",
   "nbconvert_exporter": "python",
   "pygments_lexer": "ipython3",
   "version": "3.9.7"
  }
 },
 "nbformat": 4,
 "nbformat_minor": 5
}
