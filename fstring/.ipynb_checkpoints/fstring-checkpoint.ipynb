{
 "cells": [
  {
   "cell_type": "code",
   "execution_count": 2,
   "id": "bd18d37f-155d-4632-9912-aadcf1624e38",
   "metadata": {},
   "outputs": [
    {
     "name": "stdout",
     "output_type": "stream",
     "text": [
      "Hello, Eric.\n"
     ]
    }
   ],
   "source": [
    "name = \"Eric\"\n",
    "print(\"Hello, %s.\" % name)"
   ]
  },
  {
   "cell_type": "code",
   "execution_count": 3,
   "id": "c17af92f-7ed3-4c7b-bd42-f89e9735ebb2",
   "metadata": {},
   "outputs": [
    {
     "name": "stdout",
     "output_type": "stream",
     "text": [
      "Hello, Eric. You are 74.\n"
     ]
    }
   ],
   "source": [
    "# for multiple variable concatenations, insert tuple. variables are inserted by sequential order in string.\n",
    "# can become unweildy with many vars\n",
    "age = 74\n",
    "print(\"Hello, %s. You are %s.\" % (name, age))"
   ]
  },
  {
   "cell_type": "code",
   "execution_count": 5,
   "id": "8b1fcfbc-a1cb-4192-8233-88a1cc8551d7",
   "metadata": {},
   "outputs": [
    {
     "name": "stdout",
     "output_type": "stream",
     "text": [
      "Hello, Eric. You are 74.\n"
     ]
    }
   ],
   "source": [
    "# this is pretty similar\n",
    "print(\"Hello, {}. You are {}.\".format(name, age))"
   ]
  },
  {
   "cell_type": "code",
   "execution_count": 6,
   "id": "a1d046ef-2f52-48f3-bea8-c4ab641a1dfa",
   "metadata": {},
   "outputs": [
    {
     "name": "stdout",
     "output_type": "stream",
     "text": [
      "Hello, Eric. You are 74.\n",
      "Hello, 74. You are Eric.\n"
     ]
    }
   ],
   "source": [
    "# but you can add in locations of which var you want where. This is better but still verbose\n",
    "print(\"Hello, {0}. You are {1}.\".format(name, age))\n",
    "print(\"Hello, {1}. You are {0}.\".format(name, age))"
   ]
  },
  {
   "cell_type": "code",
   "execution_count": 7,
   "id": "24976570-5c90-47bf-ae74-dcab75947c81",
   "metadata": {},
   "outputs": [
    {
     "name": "stdout",
     "output_type": "stream",
     "text": [
      "Hello, Eric. You are 74.\n"
     ]
    }
   ],
   "source": [
    "# f strings are less verbose, and you can call the variable directly.\n",
    "print(f\"Hello, {name}. You are {age}.\")"
   ]
  },
  {
   "cell_type": "code",
   "execution_count": 9,
   "id": "f684efb2-a8dc-4de7-a4e4-dbdb06f8d62e",
   "metadata": {},
   "outputs": [
    {
     "name": "stdout",
     "output_type": "stream",
     "text": [
      "hello, Eric. You are 74.\n"
     ]
    }
   ],
   "source": [
    "# f strings are also MUCH better than '+' concatenation, which is more verbose and requires type casting\n",
    "print(\"hello, \" + name + \". You are \" + str(age) + \".\")"
   ]
  },
  {
   "cell_type": "code",
   "execution_count": 14,
   "id": "7e6e08c2-98d0-4bb8-badc-bcf014ee21df",
   "metadata": {},
   "outputs": [
    {
     "name": "stdout",
     "output_type": "stream",
     "text": [
      "74\n",
      "ERIC\n"
     ]
    }
   ],
   "source": [
    "# you can also evaluate python expressions within f strings at runtime\n",
    "print(f\"{2 * 37}\")\n",
    "print(f\"{name.upper()}\")"
   ]
  },
  {
   "cell_type": "code",
   "execution_count": null,
   "id": "2178425b-c81f-4ac4-a177-cf7793517dfa",
   "metadata": {},
   "outputs": [],
   "source": []
  }
 ],
 "metadata": {
  "kernelspec": {
   "display_name": "Python 3 (ipykernel)",
   "language": "python",
   "name": "python3"
  },
  "language_info": {
   "codemirror_mode": {
    "name": "ipython",
    "version": 3
   },
   "file_extension": ".py",
   "mimetype": "text/x-python",
   "name": "python",
   "nbconvert_exporter": "python",
   "pygments_lexer": "ipython3",
   "version": "3.9.7"
  }
 },
 "nbformat": 4,
 "nbformat_minor": 5
}
