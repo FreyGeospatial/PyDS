{
 "cells": [
  {
   "cell_type": "code",
   "execution_count": 6,
   "id": "639a0806-923e-4c8a-a52c-e4ba42bb1eec",
   "metadata": {},
   "outputs": [
    {
     "name": "stdout",
     "output_type": "stream",
     "text": [
      "1\n"
     ]
    }
   ],
   "source": [
    "# creating a global variable from within a function...\n",
    "# typically functions contian local variables that cannot be used outside their local scope\n",
    "# In R, we change this with <<- assignment. In Python, we can use the Global keyword.\n",
    "\n",
    "my_var = 1 # global variable\n",
    "\n",
    "def add():\n",
    "    print(my_var)\n",
    "\n",
    "add()"
   ]
  },
  {
   "cell_type": "code",
   "execution_count": 7,
   "id": "9f088bb7-331e-4eb8-ad3c-d40febc18ffd",
   "metadata": {},
   "outputs": [
    {
     "ename": "UnboundLocalError",
     "evalue": "local variable 'my_var' referenced before assignment",
     "output_type": "error",
     "traceback": [
      "\u001b[0;31m---------------------------------------------------------------------------\u001b[0m",
      "\u001b[0;31mUnboundLocalError\u001b[0m                         Traceback (most recent call last)",
      "\u001b[0;32m/var/folders/3z/vql799852x1fxbym4hmy9p8w0000gn/T/ipykernel_20466/2058222191.py\u001b[0m in \u001b[0;36m<module>\u001b[0;34m\u001b[0m\n\u001b[1;32m      3\u001b[0m     \u001b[0mprint\u001b[0m\u001b[0;34m(\u001b[0m\u001b[0mmy_var\u001b[0m\u001b[0;34m)\u001b[0m\u001b[0;34m\u001b[0m\u001b[0;34m\u001b[0m\u001b[0m\n\u001b[1;32m      4\u001b[0m \u001b[0;34m\u001b[0m\u001b[0m\n\u001b[0;32m----> 5\u001b[0;31m \u001b[0madd\u001b[0m\u001b[0;34m(\u001b[0m\u001b[0;34m)\u001b[0m\u001b[0;34m\u001b[0m\u001b[0;34m\u001b[0m\u001b[0m\n\u001b[0m",
      "\u001b[0;32m/var/folders/3z/vql799852x1fxbym4hmy9p8w0000gn/T/ipykernel_20466/2058222191.py\u001b[0m in \u001b[0;36madd\u001b[0;34m()\u001b[0m\n\u001b[1;32m      1\u001b[0m \u001b[0;32mdef\u001b[0m \u001b[0madd\u001b[0m\u001b[0;34m(\u001b[0m\u001b[0;34m)\u001b[0m\u001b[0;34m:\u001b[0m\u001b[0;34m\u001b[0m\u001b[0;34m\u001b[0m\u001b[0m\n\u001b[0;32m----> 2\u001b[0;31m     \u001b[0mmy_var\u001b[0m \u001b[0;34m=\u001b[0m \u001b[0mmy_var\u001b[0m \u001b[0;34m+\u001b[0m \u001b[0;36m2\u001b[0m\u001b[0;34m\u001b[0m\u001b[0;34m\u001b[0m\u001b[0m\n\u001b[0m\u001b[1;32m      3\u001b[0m     \u001b[0mprint\u001b[0m\u001b[0;34m(\u001b[0m\u001b[0mmy_var\u001b[0m\u001b[0;34m)\u001b[0m\u001b[0;34m\u001b[0m\u001b[0;34m\u001b[0m\u001b[0m\n\u001b[1;32m      4\u001b[0m \u001b[0;34m\u001b[0m\u001b[0m\n\u001b[1;32m      5\u001b[0m \u001b[0madd\u001b[0m\u001b[0;34m(\u001b[0m\u001b[0;34m)\u001b[0m\u001b[0;34m\u001b[0m\u001b[0;34m\u001b[0m\u001b[0m\n",
      "\u001b[0;31mUnboundLocalError\u001b[0m: local variable 'my_var' referenced before assignment"
     ]
    }
   ],
   "source": [
    "# we will get an error here because we cannot modify a global variable from inside a function without a keyword!\n",
    "def add():\n",
    "    my_var = my_var + 2\n",
    "    print(my_var)\n",
    "\n",
    "add()"
   ]
  },
  {
   "cell_type": "code",
   "execution_count": 10,
   "id": "2a830dc7-79cd-4779-907f-3b5335efc190",
   "metadata": {},
   "outputs": [
    {
     "name": "stdout",
     "output_type": "stream",
     "text": [
      "7\n",
      "my_var has been modified in global scope: 7\n"
     ]
    }
   ],
   "source": [
    "# here, we specify that we want to mody a global keyword within our function\n",
    "def add():\n",
    "    global my_var\n",
    "    my_var = my_var + 2\n",
    "    print(my_var)\n",
    "\n",
    "add()\n",
    "print(\"my_var has been modified in global scope: \" + str(my_var))"
   ]
  },
  {
   "cell_type": "code",
   "execution_count": 11,
   "id": "81303603-958c-4be0-a70c-7d4f42522fce",
   "metadata": {},
   "outputs": [],
   "source": [
    "#####\n",
    "#####\n",
    "#####"
   ]
  },
  {
   "cell_type": "code",
   "execution_count": 12,
   "id": "e45eabac-c11c-484d-b0eb-1c27b5dda8d0",
   "metadata": {},
   "outputs": [],
   "source": [
    "# we can also create global variables across python modules for use within a single program, using config.py file. See repo for files."
   ]
  },
  {
   "cell_type": "code",
   "execution_count": 13,
   "id": "a692ee7d-4f72-4ce1-b86a-79dfc7947f0c",
   "metadata": {
    "tags": []
   },
   "outputs": [
    {
     "name": "stdout",
     "output_type": "stream",
     "text": [
      "before calling bar:  20\n",
      "after calling bar:  20\n",
      "x in main:  25\n"
     ]
    }
   ],
   "source": [
    "# next, lets see how to use global variables in nested functions\n",
    "\n",
    "def foo():\n",
    "    x = 20\n",
    "    \n",
    "    def bar():\n",
    "        global x\n",
    "        x = 25\n",
    "    print(\"before calling bar: \", x)\n",
    "    bar()\n",
    "    print(\"after calling bar: \", x)\n",
    "\n",
    "foo()\n",
    "print(\"x in main: \", x)"
   ]
  },
  {
   "cell_type": "code",
   "execution_count": null,
   "id": "70b4361a-a998-43bf-9f60-0f4e414951b1",
   "metadata": {},
   "outputs": [],
   "source": []
  }
 ],
 "metadata": {
  "kernelspec": {
   "display_name": "Python 3 (ipykernel)",
   "language": "python",
   "name": "python3"
  },
  "language_info": {
   "codemirror_mode": {
    "name": "ipython",
    "version": 3
   },
   "file_extension": ".py",
   "mimetype": "text/x-python",
   "name": "python",
   "nbconvert_exporter": "python",
   "pygments_lexer": "ipython3",
   "version": "3.9.7"
  }
 },
 "nbformat": 4,
 "nbformat_minor": 5
}
