{
 "cells": [
  {
   "cell_type": "code",
   "execution_count": 1,
   "id": "5050a733-e2c7-4934-9c53-bf38768c80e6",
   "metadata": {},
   "outputs": [],
   "source": [
    "from app import Suite, Value, Card, Deck "
   ]
  },
  {
   "cell_type": "code",
   "execution_count": 2,
   "id": "4cb049c7-7dc9-4588-9d95-4f6d66a466f1",
   "metadata": {},
   "outputs": [
    {
     "data": {
      "text/plain": [
       "<Card Value.TWO of Suite.DIAMOND>"
      ]
     },
     "execution_count": 2,
     "metadata": {},
     "output_type": "execute_result"
    }
   ],
   "source": [
    "card1 = Card(Suite.DIAMOND, Value.TWO)\n",
    "card1"
   ]
  },
  {
   "cell_type": "code",
   "execution_count": 3,
   "id": "bcf5fa48-acb3-4b6c-9140-d297a4e917f6",
   "metadata": {},
   "outputs": [],
   "source": [
    "deck = Deck()"
   ]
  },
  {
   "cell_type": "code",
   "execution_count": 4,
   "id": "890d3e20-74d1-4989-9bf5-7d04a668a5df",
   "metadata": {},
   "outputs": [
    {
     "data": {
      "text/plain": [
       "52"
      ]
     },
     "execution_count": 4,
     "metadata": {},
     "output_type": "execute_result"
    }
   ],
   "source": [
    "len(deck.cards)"
   ]
  }
 ],
 "metadata": {
  "kernelspec": {
   "display_name": "Python 3 (ipykernel)",
   "language": "python",
   "name": "python3"
  },
  "language_info": {
   "codemirror_mode": {
    "name": "ipython",
    "version": 3
   },
   "file_extension": ".py",
   "mimetype": "text/x-python",
   "name": "python",
   "nbconvert_exporter": "python",
   "pygments_lexer": "ipython3",
   "version": "3.9.7"
  }
 },
 "nbformat": 4,
 "nbformat_minor": 5
}
